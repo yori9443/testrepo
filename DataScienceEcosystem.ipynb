{
 "cells": [
  {
   "cell_type": "markdown",
   "id": "b7f082f6-ca9f-4c14-8b6e-23af08837809",
   "metadata": {},
   "source": [
    "# Data Science Tools and Ecosystem"
   ]
  },
  {
   "cell_type": "markdown",
   "id": "1089f467-c108-4fec-a033-a18fe30f41fe",
   "metadata": {},
   "source": [
    "In this notebook, Data Science Tools and Ecosystem are summarized."
   ]
  },
  {
   "cell_type": "markdown",
   "id": "a30c7ab8-c724-415a-b825-1971d8e052be",
   "metadata": {},
   "source": [
    "**Objectives:**"
   ]
  },
  {
   "cell_type": "markdown",
   "id": "63ee5334-5969-42af-abbf-f60000dcf914",
   "metadata": {},
   "source": [
    "- Python\n",
    "- Jupyter Notebook\n",
    "- RStudio\n",
    "- SQL\n",
    "- R"
   ]
  },
  {
   "cell_type": "markdown",
   "id": "9e899873-b779-4632-b63c-3d356fdd0786",
   "metadata": {},
   "source": [
    "Some of the popular languages that Data Scientists use are:"
   ]
  },
  {
   "cell_type": "markdown",
   "id": "a7219526-6fc0-4cf5-a03e-92227394cdec",
   "metadata": {},
   "source": [
    "1. R\n",
    "2. SQL\n",
    "3. PYTHON\n"
   ]
  },
  {
   "cell_type": "markdown",
   "id": "da8eb56d-c2cc-4663-a93a-d15edca69bbd",
   "metadata": {},
   "source": [
    "Some of the commonly used libraries used by Data Scientist include:"
   ]
  },
  {
   "cell_type": "markdown",
   "id": "f0916478-da22-4e08-b89f-908b8364f145",
   "metadata": {},
   "source": [
    "1. Pandas\n",
    "2. Numpy\n",
    "3. Scipy\n",
    "4. Matplotlib"
   ]
  },
  {
   "cell_type": "markdown",
   "id": "74972a62-4b86-4bae-9fd2-09a951f6f36c",
   "metadata": {},
   "source": [
    "|Data Science Tools|\n",
    "|------------------|\n",
    "|Jupyter Notebook|\n",
    "|RStudio|\n",
    "|VS Code|"
   ]
  },
  {
   "cell_type": "markdown",
   "id": "2fd38b4a-a4d4-4369-b9ca-dd6bcf21c981",
   "metadata": {},
   "source": [
    "### Below are a few examples of evaluating arithmetic expressions in Python "
   ]
  },
  {
   "cell_type": "code",
   "execution_count": 2,
   "id": "df375462-6707-4c28-95f4-ac341fa7c351",
   "metadata": {},
   "outputs": [
    {
     "data": {
      "text/plain": [
       "17"
      ]
     },
     "execution_count": 2,
     "metadata": {},
     "output_type": "execute_result"
    }
   ],
   "source": [
    "# This is a simple arithmetic expression to multiply then add integers.\n",
    "(3*4)+5"
   ]
  },
  {
   "cell_type": "code",
   "execution_count": 3,
   "id": "61262116-d605-4085-a94e-8af8323217a9",
   "metadata": {},
   "outputs": [
    {
     "data": {
      "text/plain": [
       "3.3333333333333335"
      ]
     },
     "execution_count": 3,
     "metadata": {},
     "output_type": "execute_result"
    }
   ],
   "source": [
    "# This will convert 200 minutes to hours by dividing by 60.\n",
    "200/60"
   ]
  },
  {
   "cell_type": "markdown",
   "id": "87307df7-c281-475b-b6b6-6666619f2b83",
   "metadata": {},
   "source": [
    "## Author"
   ]
  },
  {
   "cell_type": "markdown",
   "id": "6c4cdb4b-3e8b-4572-9775-0e662f4b088e",
   "metadata": {},
   "source": [
    "Pooja"
   ]
  },
  {
   "cell_type": "code",
   "execution_count": null,
   "id": "6ddbd113-d63f-463d-9ece-c50ebdd4f523",
   "metadata": {},
   "outputs": [],
   "source": []
  }
 ],
 "metadata": {
  "kernelspec": {
   "display_name": "Python 3 (ipykernel)",
   "language": "python",
   "name": "python3"
  },
  "language_info": {
   "codemirror_mode": {
    "name": "ipython",
    "version": 3
   },
   "file_extension": ".py",
   "mimetype": "text/x-python",
   "name": "python",
   "nbconvert_exporter": "python",
   "pygments_lexer": "ipython3",
   "version": "3.12.8"
  }
 },
 "nbformat": 4,
 "nbformat_minor": 5
}
